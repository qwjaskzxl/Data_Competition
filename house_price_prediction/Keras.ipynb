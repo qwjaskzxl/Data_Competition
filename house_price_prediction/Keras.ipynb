{
 "cells": [
  {
   "cell_type": "code",
   "execution_count": 1,
   "metadata": {},
   "outputs": [],
   "source": [
    "import numpy as np\n",
    "import pandas as pd\n",
    "from sklearn.model_selection import train_test_split\n",
    "\n",
    "df = pd.read_csv('./dataset/train.csv')#[:100000]\n",
    "X = df.drop(['月租金','房屋朝向'], axis=1).fillna(df.mean())\n",
    "y = df['月租金']\n",
    "\n",
    "#划分数据\n",
    "X_train, X_test, y_train, y_test = train_test_split(X, y, test_size=0.2, random_state=42)\n",
    "\n",
    "#标准化\n",
    "from sklearn.preprocessing import MinMaxScaler\n",
    "mms = MinMaxScaler((0,2))\n",
    "mms.fit(X_train)\n",
    "X_train = mms.transform(X_train)\n",
    "X_test = mms.transform(X_test)"
   ]
  },
  {
   "cell_type": "code",
   "execution_count": 2,
   "metadata": {},
   "outputs": [
    {
     "data": {
      "text/plain": [
       "((157231, 17), (157231,), (39308, 17), (39308,))"
      ]
     },
     "execution_count": 2,
     "metadata": {},
     "output_type": "execute_result"
    }
   ],
   "source": [
    "X_train.shape, y_train.shape, X_test.shape, y_test.shape"
   ]
  },
  {
   "cell_type": "code",
   "execution_count": 3,
   "metadata": {},
   "outputs": [
    {
     "name": "stderr",
     "output_type": "stream",
     "text": [
      "/home/amax/anaconda3/lib/python3.6/site-packages/h5py/__init__.py:36: FutureWarning: Conversion of the second argument of issubdtype from `float` to `np.floating` is deprecated. In future, it will be treated as `np.float64 == np.dtype(float).type`.\n",
      "  from ._conv import register_converters as _register_converters\n",
      "Using TensorFlow backend.\n"
     ]
    },
    {
     "name": "stdout",
     "output_type": "stream",
     "text": [
      "WARNING:tensorflow:From /home/amax/anaconda3/lib/python3.6/site-packages/keras/backend/tensorflow_backend.py:1290: calling reduce_mean (from tensorflow.python.ops.math_ops) with keep_dims is deprecated and will be removed in a future version.\n",
      "Instructions for updating:\n",
      "keep_dims is deprecated, use keepdims instead\n"
     ]
    }
   ],
   "source": [
    "from keras import models\n",
    "from keras import layers\n",
    "\n",
    "network = models.Sequential()\n",
    "network.add(layers.Dense(128, activation='relu', input_shape=(X_train.shape[1], )))\n",
    "network.add(layers.Dense(64, activation='relu'))\n",
    "network.add(layers.Dense(1))\n",
    "network.compile(optimizer='rmsprop',\n",
    "               loss='mse',\n",
    "               metrics=['mse'])"
   ]
  },
  {
   "cell_type": "code",
   "execution_count": 4,
   "metadata": {
    "scrolled": false
   },
   "outputs": [
    {
     "name": "stdout",
     "output_type": "stream",
     "text": [
      "Epoch 1/10\n",
      "157231/157231 [==============================] - 6s - loss: 29.2714 - mean_squared_error: 29.2714     \n",
      "Epoch 2/10\n",
      "157231/157231 [==============================] - 3s - loss: 23.9102 - mean_squared_error: 23.9102     \n",
      "Epoch 3/10\n",
      "157231/157231 [==============================] - 3s - loss: 21.5197 - mean_squared_error: 21.5197     \n",
      "Epoch 4/10\n",
      "157231/157231 [==============================] - 3s - loss: 20.3441 - mean_squared_error: 20.3441     \n",
      "Epoch 5/10\n",
      "157231/157231 [==============================] - 4s - loss: 19.5992 - mean_squared_error: 19.5992     \n",
      "Epoch 6/10\n",
      "157231/157231 [==============================] - 4s - loss: 18.8779 - mean_squared_error: 18.8779     \n",
      "Epoch 7/10\n",
      "157231/157231 [==============================] - 4s - loss: 17.8516 - mean_squared_error: 17.8516     \n",
      "Epoch 8/10\n",
      "157231/157231 [==============================] - 4s - loss: 17.1626 - mean_squared_error: 17.1626     \n",
      "Epoch 9/10\n",
      "157231/157231 [==============================] - 4s - loss: 16.1602 - mean_squared_error: 16.1602     \n",
      "Epoch 10/10\n",
      "157231/157231 [==============================] - 4s - loss: 15.3351 - mean_squared_error: 15.3351     \n"
     ]
    },
    {
     "data": {
      "text/plain": [
       "<keras.callbacks.History at 0x7f48baf47470>"
      ]
     },
     "execution_count": 4,
     "metadata": {},
     "output_type": "execute_result"
    }
   ],
   "source": [
    "network.fit(X_train, y_train, batch_size=128, epochs=10)"
   ]
  },
  {
   "cell_type": "code",
   "execution_count": 5,
   "metadata": {},
   "outputs": [
    {
     "name": "stdout",
     "output_type": "stream",
     "text": [
      "38368/39308 [============================>.] - ETA: 0s"
     ]
    },
    {
     "data": {
      "text/plain": [
       "[16.261277476501718, 16.261277476501718]"
      ]
     },
     "execution_count": 5,
     "metadata": {},
     "output_type": "execute_result"
    }
   ],
   "source": [
    "test_mse =network.evaluate(X_test, y_test)\n",
    "test_mse"
   ]
  }
 ],
 "metadata": {
  "kernelspec": {
   "display_name": "Python 3",
   "language": "python",
   "name": "python3"
  },
  "language_info": {
   "codemirror_mode": {
    "name": "ipython",
    "version": 3
   },
   "file_extension": ".py",
   "mimetype": "text/x-python",
   "name": "python",
   "nbconvert_exporter": "python",
   "pygments_lexer": "ipython3",
   "version": "3.6.4"
  }
 },
 "nbformat": 4,
 "nbformat_minor": 2
}
